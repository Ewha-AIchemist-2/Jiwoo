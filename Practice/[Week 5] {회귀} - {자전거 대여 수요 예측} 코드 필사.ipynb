{
  "nbformat": 4,
  "nbformat_minor": 0,
  "metadata": {
    "colab": {
      "provenance": []
    },
    "kernelspec": {
      "name": "python3",
      "display_name": "Python 3"
    },
    "language_info": {
      "name": "python"
    }
  },
  "cells": [
    {
      "cell_type": "code",
      "source": [
        "import numpy as np\n",
        "import pandas as pd # 판다스 임포트\n",
        "\n",
        "# 데이터 경로\n",
        "data_path = '/content/bike-sharing-demand'\n",
        "\n",
        "train = pd.read_csv(data_path + 'train.csv') # 훈련 데이터\n",
        "test = pd.read_csv(data_path + 'test.csv')   # 테스트 데이터\n",
        "submission = pd.read_csv(data_path + 'sampleSubmission.csv') # 제출 샘플 데이터\n",
        "train.shape, test.shape"
      ],
      "metadata": {
        "id": "3NRRckjw4jxt"
      },
      "execution_count": null,
      "outputs": []
    },
    {
      "cell_type": "code",
      "source": [
        "train.head()"
      ],
      "metadata": {
        "id": "HW9Yr4gp4kll"
      },
      "execution_count": null,
      "outputs": []
    },
    {
      "cell_type": "code",
      "source": [
        "test.head()"
      ],
      "metadata": {
        "id": "Exw-W2iO4koP"
      },
      "execution_count": null,
      "outputs": []
    },
    {
      "cell_type": "code",
      "source": [
        "submission.head()"
      ],
      "metadata": {
        "id": "GB0vZVgU4kqn"
      },
      "execution_count": null,
      "outputs": []
    },
    {
      "cell_type": "code",
      "source": [
        "train.info()"
      ],
      "metadata": {
        "id": "GfwcH6Zl4ktO"
      },
      "execution_count": null,
      "outputs": []
    },
    {
      "cell_type": "code",
      "source": [
        "test.info()"
      ],
      "metadata": {
        "id": "QIsMgTs34kv9"
      },
      "execution_count": null,
      "outputs": []
    },
    {
      "cell_type": "code",
      "source": [
        "print(train['datetime'][100]) #datetime 100번째 요소\n",
        "print(train['datetime'][100].split()) #공백 기준으로 문자열 나누기\n",
        "print(train['datetime'][100].split()[0]) #날짜\n",
        "print(train['datetime'][100].split()[1]) #시간\n",
        "\n",
        "\n",
        "print(train['datetime'][100].split()[0]) #날짜\n",
        "print(train['datetime'][100].split()[0].split('-')) #\"_” 기준으로 문자열 나누기\n",
        "print(train['datetime'][100].split()[0].split(\"-')[0]) #연도\n",
        "print(train['datetime'][100].split()[0].split('-')[1]) #월\n",
        "print(train['datetime'][100].split()[0].split(\"-\")[2]) #일\n",
        "\n",
        "\n",
        "print(train['datetime'][100].split()[1]) #시간\n",
        "print(train['datetime'][100].split()[1].split(':')) #\":\" 기준으로 문자열 나누기\n",
        "print(train['datetime'][100].split()[1].split(\":')[0]) #시간\n",
        "print(train['datetime'][100].split()[1].split(':')[1]) #분\n",
        "print(train['datetime'][100].split()[1].split(\":')[2]) #초\n"
      ],
      "metadata": {
        "id": "lLi6RtJZ8I4m"
      },
      "execution_count": null,
      "outputs": []
    },
    {
      "cell_type": "code",
      "source": [
        "train['date'] = train['datetime'].apply(lambda x: x.split()[0]) # 날짜 피처 생성\n",
        "\n",
        "# 연도, 월, 일, 시, 분, 초 피처를 차례로 생성\n",
        "train['year'] = train['datetime'].apply(lambda x: x.split()[0].split('-')[0])\n",
        "train['month'] = train['datetime'].apply(lambda x: x.split()[0].split('-')[1])\n",
        "train['day'] = train['datetime'].apply(lambda x: x.split()[0].split('-')[2])\n",
        "train['hour'] = train['datetime'].apply(lambda x: x.split()[1].split(':')[0])\n",
        "train['minute'] = train['datetime'].apply(lambda x: x.split()[1].split(':')[1])\n",
        "train['second'] = train['datetime'].apply(lambda x: x.split()[1].split(':')[2])```"
      ],
      "metadata": {
        "id": "mSgvoXDa8J-9"
      },
      "execution_count": null,
      "outputs": []
    },
    {
      "cell_type": "code",
      "source": [
        "from datetime import datetime # datatime 라이브러리 임포트\n",
        "import calendar\n",
        "\n",
        "print(train['date'][100]) # 날짜\n",
        "print(datetime.strptime(train['date'][100], '%Y-%m-%d')) # datetime 타입으로 변경\n",
        "print(datetime.strptime(train['date'][100], '%Y-%m-%d').weekday()) # 정수로 요일 반환\n",
        "print(calendar.day_name[datetime.strptime(train['date'][100], '%Y-%m-%d').weekday()]) # 문자열로 요일 반환"
      ],
      "metadata": {
        "id": "oTHiw7Nw8KB2"
      },
      "execution_count": null,
      "outputs": []
    },
    {
      "cell_type": "code",
      "source": [
        "train['weekday'] = train['date'].apply(\n",
        "    lambda dateString:\n",
        "    calendar.day_name[datetime.strptime(dateString,\"%Y-%m-%d\").weekday()])"
      ],
      "metadata": {
        "id": "cC96RgQB8ZeW"
      },
      "execution_count": null,
      "outputs": []
    },
    {
      "cell_type": "code",
      "source": [
        "train['season'] = train['season'].map({1: 'Spring',\n",
        "                                       2: 'Summer',\n",
        "                                       3: 'Fall',\n",
        "                                       4: 'Winter' })\n",
        "train['weather'] = train['weather'].map({1: 'Clear',\n",
        "                                         2: 'Mist, Few clouds',\n",
        "                                         3: 'Light Snow, Rain, Thunder',\n",
        "                                         4: 'Heavy Snow, Rain, Thunder'})"
      ],
      "metadata": {
        "id": "tMcnE_RC8ZlX"
      },
      "execution_count": null,
      "outputs": []
    },
    {
      "cell_type": "code",
      "source": [
        "import seaborn as sns\n",
        "import matplotlib as mpl\n",
        "import matplotlib.pyplot as plt\n",
        "%matplotlib inline"
      ],
      "metadata": {
        "id": "e6ZWoTxH8Zn-"
      },
      "execution_count": null,
      "outputs": []
    },
    {
      "cell_type": "code",
      "source": [
        "mpl.rc('font', size=15)      # 폰트 크기를 15로 설정\n",
        "sns.displot(train['count']); # 분포도 출력"
      ],
      "metadata": {
        "id": "TZCTJ5mI8dod"
      },
      "execution_count": null,
      "outputs": []
    },
    {
      "cell_type": "code",
      "source": [
        "sns.displot(np.log(train['count']));"
      ],
      "metadata": {
        "id": "2wZ8u1Mq8dvO"
      },
      "execution_count": null,
      "outputs": []
    },
    {
      "cell_type": "code",
      "source": [
        "# 스텝 1 : m행 n열 Figure 준비\n",
        "mpl.rc('font', size=14)       # 폰트 크기 설정\n",
        "mpl.rc('axes', titlesize=15)  # 각 축의 제목 크기 설정\n",
        "figure, axes = plt.subplots(nrows=3, ncols=2) # 3행 2열 Figure 생성\n",
        "plt.tight_layout()            # 그래프 사이에 여백 확보\n",
        "figure.set_size_inches(10, 9) # 전체 Figure 크기를 10x9인치로 설정\n",
        "\n",
        "# 스텝 2 : 각 축에 서브플롯 할당\n",
        "# 각 축에 연도, 월, 일, 시간, 분, 초별 평균 대여 수량 막대 그래프 할당\n",
        "sns.barplot(x='year', y='count', data=train, ax=axes[0, 0])\n",
        "sns.barplot(x='month', y='count', data=train, ax=axes[0, 1])\n",
        "sns.barplot(x='day', y='count', data=train, ax=axes[1, 0])\n",
        "sns.barplot(x='hour', y='count', data=train, ax=axes[1, 1])\n",
        "sns.barplot(x='minute', y='count', data=train, ax=axes[2, 0])\n",
        "sns.barplot(x='second', y='count', data=train, ax=axes[2, 1])\n",
        "\n",
        "# 스텝 3 : 세부 설정\n",
        "# 3-1 : 서브플롯에 제목 달기\n",
        "axes[0, 0].set(title='Rental amounts by year')\n",
        "axes[0, 1].set(title='Rental amounts by month')\n",
        "axes[1, 0].set(title='Rental amounts by day')\n",
        "axes[1, 1].set(title='Rental amounts by hour')\n",
        "axes[2, 0].set(title='Rental amounts by minute')\n",
        "axes[2, 1].set(title='Rental amounts by second')\n",
        "\n",
        "# 3-2 : 1행에 위치한 서브플롯들의 x축 라벨 90도 회전\n",
        "axes[1, 0].tick_params(axis='x', labelrotation=90)\n",
        "axes[1, 1].tick_params(axis='x', labelrotation=90)"
      ],
      "metadata": {
        "id": "TH2-XAMY8d1v"
      },
      "execution_count": null,
      "outputs": []
    },
    {
      "cell_type": "code",
      "source": [
        "# 스텝 1 : m행 n열 Figure 준비\n",
        "figure, axes = plt.subplots(nrows=2, ncols=2) # 2행 2열\n",
        "plt.tight_layout()\n",
        "figure.set_size_inches(10, 10)\n",
        "\n",
        "# 스텝 2 : 서브플롯 할당\n",
        "# 계절, 날씨, 공휴일, 근무일별 대여 수량 박스플롯\n",
        "sns.boxplot(x='season', y='count', data=train, ax=axes[0, 0])\n",
        "sns.boxplot(x='weather', y='count', data=train, ax=axes[0, 1])\n",
        "sns.boxplot(x='holiday', y='count', data=train, ax=axes[1, 0])\n",
        "sns.boxplot(x='workingday', y='count', data=train, ax=axes[1, 1])\n",
        "\n",
        "# 스텝 3 : 세부 설정\n",
        "# 3-1 : 서브플롯에 제목 달기\n",
        "axes[0, 0].set(title='Box Plot On Count Across Season')\n",
        "axes[0, 1].set(title='Box Plot On Count Across Weather')\n",
        "axes[1, 0].set(title='Box Plot On Count Across Holiday')\n",
        "axes[1, 1].set(title='Box Plot On Count Across Working Day')\n",
        "\n",
        "# 3-2 : x축 라벨 겹침 해결\n",
        "axes[0, 1].tick_params('x', labelrotation=10) # 10도 회전\n"
      ],
      "metadata": {
        "id": "sMWIk6ol8jVE"
      },
      "execution_count": null,
      "outputs": []
    },
    {
      "cell_type": "code",
      "source": [
        "# 스텝 1 : m행 n열 Figure 준비\n",
        "mpl.rc('font', size=11)\n",
        "figure, axes = plt.subplots(nrows=5) # 5행 1열\n",
        "figure.set_size_inches(12, 18)\n",
        "\n",
        "# 스텝 2 : 서브플롯 할당\n",
        "# 근무일, 공휴일, 요일, 계절, 날씨에 따른 시간대별 평균 대여 수량 포인트플롯\n",
        "sns.pointplot(x='hour', y='count', data=train, hue='workingday', ax=axes[0])\n",
        "sns.pointplot(x='hour', y='count', data=train, hue='holiday', ax=axes[1])\n",
        "sns.pointplot(x='hour', y='count', data=train, hue='weekday', ax=axes[2])\n",
        "sns.pointplot(x='hour', y='count', data=train, hue='season', ax=axes[3])\n",
        "sns.pointplot(x='hour', y='count', data=train, hue='weather', ax=axes[4]);"
      ],
      "metadata": {
        "id": "Z6TBU0jZ8jXl"
      },
      "execution_count": null,
      "outputs": []
    },
    {
      "cell_type": "code",
      "source": [
        "# 스텝 1 : m행 n열 Figure 준비\n",
        "mpl.rc('font', size=15)\n",
        "figure, axes = plt.subplots(nrows=2, ncols=2) # 2행 2열\n",
        "plt.tight_layout()\n",
        "figure.set_size_inches(7, 6)\n",
        "\n",
        "# 스텝 2 : 서브플롯 할당\n",
        "# 온도, 체감 온도, 풍속, 습도 별 대여 수량 산점도 그래프\n",
        "sns.regplot(x='temp', y='count', data=train, ax=axes[0, 0],\n",
        "            scatter_kws={'alpha': 0.2}, line_kws={'color': 'blue'})\n",
        "sns.regplot(x='atemp', y='count', data=train, ax=axes[0, 1],\n",
        "            scatter_kws={'alpha': 0.2}, line_kws={'color': 'blue'})\n",
        "sns.regplot(x='windspeed', y='count', data=train, ax=axes[1, 0],\n",
        "            scatter_kws={'alpha': 0.2}, line_kws={'color': 'blue'})\n",
        "sns.regplot(x='humidity', y='count', data=train, ax=axes[1, 1],\n",
        "            scatter_kws={'alpha': 0.2}, line_kws={'color': 'blue'});\n"
      ],
      "metadata": {
        "id": "AfpDC5OI8jZ-"
      },
      "execution_count": null,
      "outputs": []
    },
    {
      "cell_type": "code",
      "source": [
        "train[['temp', 'atemp', 'humidity', 'windspeed', 'count']].corr()"
      ],
      "metadata": {
        "id": "6jQe5X008p8e"
      },
      "execution_count": null,
      "outputs": []
    },
    {
      "cell_type": "code",
      "source": [
        "# 피처 간 상관관계 매트릭스\n",
        "corrMat = train[['temp', 'atemp', 'humidity', 'windspeed', 'count']].corr()\n",
        "fig, ax= plt.subplots()\n",
        "fig.set_size_inches(10, 10)\n",
        "sns.heatmap(corrMat, annot=True) # 상관관계 히트맵 그리기\n",
        "ax.set(title='Heatmap of Numerical Data');"
      ],
      "metadata": {
        "id": "rycgSySS8sAF"
      },
      "execution_count": null,
      "outputs": []
    },
    {
      "cell_type": "code",
      "source": [
        "import pandas as pd\n",
        "# 데이터 경로\n",
        "data_path = '/kaggle/input/bike-sharing-demand/'\n",
        "\n",
        "train = pd.read_csv(data_path + 'train.csv')\n",
        "test = pd.read_csv(data_path + 'test.csv')\n",
        "submission = pd.read_csv(data_path + 'sampleSubmission.csv')"
      ],
      "metadata": {
        "id": "RebpCtar8sCt"
      },
      "execution_count": null,
      "outputs": []
    },
    {
      "cell_type": "code",
      "source": [
        "# 훈련 데이터에서 weather가 4가 아닌 데이터만 추출\n",
        "train = train[train['weather'] != 4]"
      ],
      "metadata": {
        "id": "xgClyDzR8sFV"
      },
      "execution_count": null,
      "outputs": []
    },
    {
      "cell_type": "code",
      "source": [
        "all_data_temp = pd.concat([train, test])\n",
        "all_data_temp"
      ],
      "metadata": {
        "id": "uWq91mpL8tJr"
      },
      "execution_count": null,
      "outputs": []
    },
    {
      "cell_type": "code",
      "source": [
        "all_data = pd.concat([train, test], ignore_index=True)\n",
        "all_data"
      ],
      "metadata": {
        "id": "DyRoyDZe8sHd"
      },
      "execution_count": null,
      "outputs": []
    },
    {
      "cell_type": "code",
      "source": [
        "from datetime import datetime\n",
        "\n",
        "# 날짜 피처 생성\n",
        "all_data['date'] = all_data['datetime'].apply(lambda x: x.split()[0])\n",
        "# 연도 피처 생성\n",
        "all_data['year'] = all_data['datetime'].apply(lambda x: x.split()[0].split('-')[0])\n",
        "# 월 피처 생성\n",
        "all_data['month'] = all_data['datetime'].apply(lambda x: x.split()[0].split('-')[1])\n",
        "# 시 피처 생성\n",
        "all_data['hour'] = all_data['datetime'].apply(lambda x: x.split()[1].split(':')[0])\n",
        "# 요일 피처 생성\n",
        "all_data[\"weekday\"] = all_data['date'].apply(lambda dateString : datetime.strptime(dateString,\"%Y-%m-%d\").weekday())"
      ],
      "metadata": {
        "id": "jAdX3Ohu8zx8"
      },
      "execution_count": null,
      "outputs": []
    },
    {
      "cell_type": "code",
      "source": [
        "drop_features = ['casual', 'registered', 'datetime', 'date', 'month', 'windspeed']\n",
        "\n",
        "all_data = all_data.drop(drop_features, axis=1)"
      ],
      "metadata": {
        "id": "ihPtHhJv8z38"
      },
      "execution_count": null,
      "outputs": []
    },
    {
      "cell_type": "code",
      "source": [
        "# 훈련 데이터와 테스트 데이터 나누기\n",
        "X_train = all_data[~pd.isnull(all_data['count'])]\n",
        "X_test = all_data[pd.isnull(all_data['count'])]\n",
        "\n",
        "# 타깃값 count 제거\n",
        "X_train = X_train.drop(['count'], axis=1)\n",
        "X_test = X_test.drop(['count'], axis=1)\n",
        "\n",
        "y = train['count'] # 타깃값"
      ],
      "metadata": {
        "id": "86lkZ9WU8z6d"
      },
      "execution_count": null,
      "outputs": []
    },
    {
      "cell_type": "code",
      "source": [
        "X_train.head()"
      ],
      "metadata": {
        "id": "FF6PbWg78z8o"
      },
      "execution_count": null,
      "outputs": []
    },
    {
      "cell_type": "code",
      "source": [
        "import numpy as np\n",
        "\n",
        "def rmsle(y_true, y_pred, convertExp=True):\n",
        "    # 지수변환\n",
        "    if convertExp:\n",
        "        y_true = np.exp(y_true)\n",
        "        y_pred = np.exp(y_pred)\n",
        "\n",
        "    # 로그변환 후 결측값을 0으로 변환\n",
        "    log_true = np.nan_to_num(np.log(y_true+1))\n",
        "    log_pred = np.nan_to_num(np.log(y_pred+1))\n",
        "\n",
        "    # RMSLE 계산\n",
        "    output = np.sqrt(np.mean((log_true - log_pred)**2))\n",
        "    return output"
      ],
      "metadata": {
        "id": "FlkmKlw685e0"
      },
      "execution_count": null,
      "outputs": []
    },
    {
      "cell_type": "code",
      "source": [
        "from sklearn.linear_model import LinearRegression\n",
        "\n",
        "linear_reg_model = LinearRegression()\n",
        "\n",
        "log_y = np.log(y)  # 타깃값 로그변환\n",
        "linear_reg_model.fit(X_train, log_y) # 모델 훈련"
      ],
      "metadata": {
        "id": "lp8GQO1Q85hc"
      },
      "execution_count": null,
      "outputs": []
    },
    {
      "cell_type": "code",
      "source": [
        "preds = linear_reg_model.predict(X_train)\n",
        "\n",
        "print (f'선형회귀의 RMSLE 값 : {rmsle(log_y, preds, True):.4f}')"
      ],
      "metadata": {
        "id": "kidWcrh885j_"
      },
      "execution_count": null,
      "outputs": []
    },
    {
      "cell_type": "code",
      "source": [
        "linearreg_preds = linear_reg_model.predict(X_test) # 테스트 데이터로 예측\n",
        "\n",
        "submission['count'] = np.exp(linearreg_preds)    # 지수변환\n",
        "submission.to_csv('submission.csv', index=False) # 파일로 저장"
      ],
      "metadata": {
        "id": "Wc2ABEuO85md"
      },
      "execution_count": null,
      "outputs": []
    },
    {
      "cell_type": "code",
      "source": [
        "from sklearn.linear_model import Ridge\n",
        "from sklearn.model_selection import GridSearchCV\n",
        "from sklearn import metrics\n",
        "\n",
        "ridge_model = Ridge()"
      ],
      "metadata": {
        "id": "CfdVPpOt85os"
      },
      "execution_count": null,
      "outputs": []
    },
    {
      "cell_type": "code",
      "source": [
        "# 하이퍼 파라미터 값 목록\n",
        "ridge_params = {'max_iter':[3000], 'alpha':[0.1, 1, 2, 3, 4, 10, 30, 100, 200, 300, 400, 800, 900, 1000]}\n",
        "\n",
        "# 교차 검증용 평가 함수(RMSLE 점수 계산)\n",
        "rmsle_scorer = metrics.make_scorer(rmsle, greater_is_better=False)\n",
        "# 그리드서치(with 릿지) 객체 생성\n",
        "gridsearch_ridge_model = GridSearchCV(estimator=ridge_model,   # 릿지 모델\n",
        "                                      param_grid=ridge_params, # 값 목록\n",
        "                                      scoring=rmsle_scorer,    # 평가지표\n",
        "                                      cv=5)                    # 교차검증 분할 수"
      ],
      "metadata": {
        "id": "0FXG7d3a9CHX"
      },
      "execution_count": null,
      "outputs": []
    },
    {
      "cell_type": "code",
      "source": [
        "log_y = np.log(y) # 타깃값 로그변환\n",
        "gridsearch_ridge_model.fit(X_train, log_y) # 훈련(그리드서치)"
      ],
      "metadata": {
        "id": "gZ4Kep3M9CMW"
      },
      "execution_count": null,
      "outputs": []
    },
    {
      "cell_type": "code",
      "source": [
        "print('최적 하이퍼파라미터 :', gridsearch_ridge_model.best_params_)"
      ],
      "metadata": {
        "id": "jOsjm1vl9CPG"
      },
      "execution_count": null,
      "outputs": []
    },
    {
      "cell_type": "code",
      "source": [
        "# 예측\n",
        "preds = gridsearch_ridge_model.best_estimator_.predict(X_train)\n",
        "\n",
        "# 평가\n",
        "print(f'릿지 회귀 RMSLE 값 : {rmsle(log_y, preds, True):.4f}')"
      ],
      "metadata": {
        "id": "YpmUy5_49CRW"
      },
      "execution_count": null,
      "outputs": []
    },
    {
      "cell_type": "code",
      "source": [
        "from sklearn.linear_model import Lasso\n",
        "\n",
        "# 모델 생성\n",
        "lasso_model = Lasso()\n",
        "# 하이퍼파라미터 값 목록\n",
        "lasso_alpha = 1/np.array([0.1, 1, 2, 3, 4, 10, 30, 100, 200, 300, 400, 800, 900, 1000])\n",
        "lasso_params = {'max_iter':[3000], 'alpha':lasso_alpha}\n",
        "# 그리드서치(with 라쏘) 객체 생성\n",
        "gridsearch_lasso_model = GridSearchCV(estimator=lasso_model,\n",
        "                                      param_grid=lasso_params,\n",
        "                                      scoring=rmsle_scorer,\n",
        "                                      cv=5)\n",
        "# 그리드서치 수행\n",
        "log_y = np.log(y)\n",
        "gridsearch_lasso_model.fit(X_train, log_y)\n",
        "\n",
        "print('최적 하이퍼파라미터 :', gridsearch_lasso_model.best_params_)"
      ],
      "metadata": {
        "id": "HKS-W24I9I-F"
      },
      "execution_count": null,
      "outputs": []
    },
    {
      "cell_type": "code",
      "source": [
        "# 예측\n",
        "preds = gridsearch_lasso_model.best_estimator_.predict(X_train)\n",
        "\n",
        "# 평가\n",
        "print(f'라쏘 회귀 RMSLE 값 : {rmsle(log_y, preds, True):.4f}')"
      ],
      "metadata": {
        "id": "YPrvlrcl9JAf"
      },
      "execution_count": null,
      "outputs": []
    },
    {
      "cell_type": "code",
      "source": [
        "from sklearn.ensemble import RandomForestRegressor\n",
        "\n",
        "# 모델 생성\n",
        "randomforest_model = RandomForestRegressor()\n",
        "# 그리드서치 객체 생성\n",
        "rf_params = {'random_state':[42], 'n_estimators':[100, 120, 140]}\n",
        "gridsearch_random_forest_model = GridSearchCV(estimator=randomforest_model,\n",
        "                                              param_grid=rf_params,\n",
        "                                              scoring=rmsle_scorer,\n",
        "                                              cv=5)\n",
        "# 그리드서치 수행\n",
        "log_y = np.log(y)\n",
        "gridsearch_random_forest_model.fit(X_train, log_y)\n",
        "\n",
        "print('최적 하이퍼파라미터 :', gridsearch_random_forest_model.best_params_)"
      ],
      "metadata": {
        "id": "AVoVjRfp9JCs"
      },
      "execution_count": null,
      "outputs": []
    },
    {
      "cell_type": "code",
      "source": [
        "# 예측\n",
        "preds = gridsearch_random_forest_model.best_estimator_.predict(X_train)\n",
        "\n",
        "# 평가\n",
        "print(f'랜덤 포레스트 회귀 RMSLE 값 : {rmsle(log_y, preds, True):.4f}')"
      ],
      "metadata": {
        "id": "SqMLOiTB9JEv"
      },
      "execution_count": null,
      "outputs": []
    },
    {
      "cell_type": "code",
      "source": [
        "import seaborn as sns\n",
        "import matplotlib.pyplot as plt\n",
        "\n",
        "randomforest_preds = gridsearch_random_forest_model.best_estimator_.predict(X_test)\n",
        "\n",
        "figure, axes = plt.subplots(ncols=2)\n",
        "figure.set_size_inches(10, 4)\n",
        "\n",
        "sns.histplot(y, bins=50, ax=axes[0])\n",
        "axes[0].set_title('Train Data Distribution')\n",
        "sns.histplot(np.exp(randomforest_preds), bins=50, ax=axes[1])\n",
        "axes[1].set_title('Predicted Test Data Distribution');"
      ],
      "metadata": {
        "id": "41YmQ3tM9OqG"
      },
      "execution_count": null,
      "outputs": []
    },
    {
      "cell_type": "code",
      "source": [
        "submission['count'] = np.exp(randomforest_preds) # 지수변환\n",
        "submission.to_csv('submission.csv', index=False)"
      ],
      "metadata": {
        "id": "hfLCaY1P9Osd"
      },
      "execution_count": null,
      "outputs": []
    }
  ]
}